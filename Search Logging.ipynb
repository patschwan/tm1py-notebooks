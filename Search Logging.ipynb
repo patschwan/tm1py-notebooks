{
 "cells": [
  {
   "cell_type": "code",
   "execution_count": 1,
   "id": "5d627346-ad9d-4e8f-8038-47638a39b27b",
   "metadata": {},
   "outputs": [
    {
     "name": "stdout",
     "output_type": "stream",
     "text": [
      "Connection to TM1 established!! your Servername is: csvimport\n",
      "Check updated in exports/Logging_csvimport_errors.csv\n",
      "Check updated in exports/Logging_csvimport_infos.csv\n"
     ]
    }
   ],
   "source": [
    "from TM1py.Services import TM1Service\n",
    "import configparser\n",
    "import datetime\n",
    "import pandas as pd\n",
    "\n",
    "# Connect to DEV Server - CAM or Keyring for PROD!!\n",
    "config = configparser.ConfigParser()\n",
    "config.read(r'./import/config.ini')\n",
    "tm1 = TM1Service(**config['csvimport'])\n",
    "\n",
    "try:\n",
    "    server_name = tm1.server.get_server_name()\n",
    "    print(\"Connection to TM1 established!! your Servername is: {}\".format(server_name))\n",
    "except Exception as e:\n",
    "    print(\"\\nERROR:\")\n",
    "    print(\"\\t\" + str(e))\n",
    "    \n",
    "# Log lesen und in zwei DataFrames speichern\n",
    "def parse_tm1_log():\n",
    "    dt = datetime.date.today() - datetime.timedelta(days=2)\n",
    "    current_date = datetime.datetime.combine(dt, datetime.datetime.min.time())\n",
    "    #print(current_date)\n",
    "    log_entries = tm1.server.get_message_log_entries(since = current_date)\n",
    "    info_data = []\n",
    "    error_data = []\n",
    "\n",
    "    for entry in log_entries:\n",
    "        # {'ID': 12636, 'ThreadID': 10196, 'SessionID': 0, 'Level': 'Info', 'TimeStamp': '2024-01-29T19:50:50.908Z', 'Logger': 'TM1.Server', 'Message': 'Admin-Server wird benachrichtigt'}\n",
    "        log_level = entry['Level']\n",
    "        logger = entry['Logger']\n",
    "        message = entry['Message']\n",
    "        timestamp = entry['TimeStamp']\n",
    "\n",
    "        if log_level == 'Info':\n",
    "            info_data.append({'Timestamp': timestamp, 'Logger': logger, 'Message': message})\n",
    "        elif log_level == 'Error':\n",
    "            error_data.append({'Timestamp': timestamp, 'Logger': logger,  'Message': message})\n",
    "\n",
    "    info_df = pd.DataFrame(info_data)\n",
    "    error_df = pd.DataFrame(error_data)\n",
    "    \n",
    "    return info_df, error_df\n",
    "\n",
    "# Exportieren der DataFrames in CSV\n",
    "def export_to_csv(df, file_name):\n",
    "    df.to_csv(file_name, sep=';', index=False, encoding='utf-8')\n",
    "    print(\"Check updated in {}\".format(file_name))\n",
    "\n",
    "# Parse TM1-Log und Export DF\n",
    "infos, errors = parse_tm1_log()\n",
    "export_to_csv(errors, 'exports/Logging_' + server_name + '_errors.csv')\n",
    "export_to_csv(infos, 'exports/Logging_'+ server_name + '_infos.csv')"
   ]
  },
  {
   "cell_type": "code",
   "execution_count": null,
   "id": "7e1eb4b4-cf74-4a01-ad52-aa25e2a3bc36",
   "metadata": {},
   "outputs": [],
   "source": []
  }
 ],
 "metadata": {
  "kernelspec": {
   "display_name": "Python 3 (ipykernel)",
   "language": "python",
   "name": "python3"
  },
  "language_info": {
   "codemirror_mode": {
    "name": "ipython",
    "version": 3
   },
   "file_extension": ".py",
   "mimetype": "text/x-python",
   "name": "python",
   "nbconvert_exporter": "python",
   "pygments_lexer": "ipython3",
   "version": "3.12.1"
  }
 },
 "nbformat": 4,
 "nbformat_minor": 5
}
